{
 "cells": [
  {
   "cell_type": "code",
   "execution_count": 2,
   "id": "8e369074",
   "metadata": {},
   "outputs": [
    {
     "name": "stdout",
     "output_type": "stream",
     "text": [
      "Enter the programing launguage you know seprated by comma\"c\",\"java\",\"python\"\n",
      "{'python', 'c', 'java'}\n"
     ]
    }
   ],
   "source": [
    "# Write a python program to store all the programming languages known to you usingSet.\n",
    "s={eval(e) for e in input(\"Enter the programing launguage you know seprated by comma\").split(\",\")}\n",
    "print(s)"
   ]
  },
  {
   "cell_type": "code",
   "execution_count": 6,
   "id": "7d7fbe36",
   "metadata": {},
   "outputs": [
    {
     "name": "stdout",
     "output_type": "stream",
     "text": [
      "Enter your infotmation seprated by comma\"vaibhav\",26\n",
      "Age is {26, 'vaibhav'}\n"
     ]
    }
   ],
   "source": [
    "# Write a python program to store your own information {name, age, gender, so on..}\n",
    "s={eval(e) for e in input(\"Enter your infotmation seprated by comma\").split(\",\")}\n",
    "if type(s)==str:\n",
    "    print(\"Name is\",s)\n",
    "else:\n",
    "    print(\"Age is\",s)"
   ]
  },
  {
   "cell_type": "code",
   "execution_count": 3,
   "id": "a4c69501",
   "metadata": {},
   "outputs": [
    {
     "name": "stdout",
     "output_type": "stream",
     "text": [
      "Enter the elements:1,2,3,43\n",
      "<class 'set'>\n"
     ]
    }
   ],
   "source": [
    "# Write a python script to get the data type of a Set.\n",
    "a={eval(e) for e in input(\"Enter the elements:\").split(\",\")}\n",
    "print(type(a))"
   ]
  },
  {
   "cell_type": "code",
   "execution_count": 4,
   "id": "dc95db62",
   "metadata": {},
   "outputs": [
    {
     "name": "stdout",
     "output_type": "stream",
     "text": [
      "{'Python', 'Java', 'SQL', 'Vaibhav'}\n"
     ]
    }
   ],
   "source": [
    "'''Write a python program to add items from another set to the current set. thisset =\n",
    "{\"Java\", \"Python\", \"SQL\"}'''\n",
    "s1={\"Java\",\"Python\",\"SQL\"}\n",
    "s2={\"Vaibhav\",\"Kavita\"}\n",
    "s1.add(\"Vaibhav\")\n",
    "print(s1)"
   ]
  },
  {
   "cell_type": "code",
   "execution_count": 11,
   "id": "303ae33c",
   "metadata": {},
   "outputs": [
    {
     "data": {
      "text/plain": [
       "'Python'"
      ]
     },
     "execution_count": 11,
     "metadata": {},
     "output_type": "execute_result"
    }
   ],
   "source": [
    "'''Write a Python script to find if “Python” is present in the set thisset = {\"Java\",\n",
    "\"Python\", \"Django\"}'''\n",
    "s1 = {\"Java\",\"Python\",\"Django\"}\n",
    "s1.pop()"
   ]
  },
  {
   "cell_type": "code",
   "execution_count": 15,
   "id": "443a3323",
   "metadata": {},
   "outputs": [
    {
     "name": "stdout",
     "output_type": "stream",
     "text": [
      "{'C', 'Django', 'Java', 'Python', 'JavaScript'}\n"
     ]
    }
   ],
   "source": [
    "'''Write a python program to add elements of list to a set\n",
    "thisset = {\"Python\", \"Django\", \"JavaScript\"}\n",
    "mylist = [\"Java\", \"C\"]'''\n",
    "s1= {\"Python\", \"Django\", \"JavaScript\"}\n",
    "mylist = [\"Java\", \"C\"]\n",
    "\n",
    "'''here in update function the iterable elements does'nt count an element while the elements under the\n",
    "iterable will count element in the set'''\n",
    "\n",
    "s1.update([\"Java\",\"C\"]) \n",
    "print(s1)"
   ]
  },
  {
   "cell_type": "code",
   "execution_count": 18,
   "id": "da393fd8",
   "metadata": {},
   "outputs": [
    {
     "name": "stdout",
     "output_type": "stream",
     "text": [
      "{'Python', 'JavaScript', 'Django'}\n"
     ]
    }
   ],
   "source": [
    "'''Write a python program to remove last item of the given set\n",
    "thisset = {\"Python\", \"Django\", \"JavaScript\", “SQL”}'''\n",
    "s1={\"Python\", \"Django\", \"JavaScript\", \"SQL\"}\n",
    "s1.remove(\"SQL\")\n",
    "print(s1)"
   ]
  },
  {
   "cell_type": "code",
   "execution_count": 19,
   "id": "89e1dccc",
   "metadata": {},
   "outputs": [
    {
     "name": "stdout",
     "output_type": "stream",
     "text": [
      "set()\n"
     ]
    }
   ],
   "source": [
    "# Write a python program to delete the set completely.\n",
    "a={\"AA\",\"B\",\"C\"}\n",
    "a.clear()\n",
    "print(a)"
   ]
  },
  {
   "cell_type": "code",
   "execution_count": 20,
   "id": "484b154f",
   "metadata": {},
   "outputs": [
    {
     "name": "stdout",
     "output_type": "stream",
     "text": [
      "Python\n",
      "Django\n",
      "SQL\n",
      "Javascript\n"
     ]
    }
   ],
   "source": [
    "'''Write a python program to loop through the set and print values\n",
    "thisset = {\"Python\", \"Django\", \"JavaScript\", “SQL”}'''\n",
    "s1={\"Python\",\"Django\",\"Javascript\",\"SQL\"}\n",
    "for e in s1:\n",
    "    print(e)"
   ]
  },
  {
   "cell_type": "code",
   "execution_count": 22,
   "id": "562c12ec",
   "metadata": {},
   "outputs": [
    {
     "name": "stdout",
     "output_type": "stream",
     "text": [
      "Enter some elements seprated by comma:1,2,3,4\n",
      "Minimum value is: 1 Maximum value is: 4\n"
     ]
    }
   ],
   "source": [
    "# Write a python program to find the maximum and minimum value in a set.\n",
    "x={eval(e) for e in input(\"Enter some elements seprated by comma:\").split(\",\")}\n",
    "print(\"Minimum value is:\",min(x),\"Maximum value is:\",max(x))\n"
   ]
  },
  {
   "cell_type": "code",
   "execution_count": null,
   "id": "57f1c6c5",
   "metadata": {},
   "outputs": [],
   "source": []
  }
 ],
 "metadata": {
  "kernelspec": {
   "display_name": "Python 3 (ipykernel)",
   "language": "python",
   "name": "python3"
  },
  "language_info": {
   "codemirror_mode": {
    "name": "ipython",
    "version": 3
   },
   "file_extension": ".py",
   "mimetype": "text/x-python",
   "name": "python",
   "nbconvert_exporter": "python",
   "pygments_lexer": "ipython3",
   "version": "3.9.7"
  }
 },
 "nbformat": 4,
 "nbformat_minor": 5
}
